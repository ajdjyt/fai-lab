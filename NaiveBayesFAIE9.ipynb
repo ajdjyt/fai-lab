{
 "cells": [
  {
   "cell_type": "code",
   "execution_count": 5,
   "id": "f79a4ec3",
   "metadata": {},
   "outputs": [
    {
     "name": "stdout",
     "output_type": "stream",
     "text": [
      "^C\n"
     ]
    }
   ],
   "source": [
    "!conda install -c pytorch pytorch torchvision torchaudio cpuonly scikit-learn"
   ]
  },
  {
   "cell_type": "code",
   "execution_count": null,
   "id": "70e58cd0",
   "metadata": {},
   "outputs": [],
   "source": [
    "!pip install polars"
   ]
  },
  {
   "cell_type": "code",
   "execution_count": null,
   "id": "c9ad10ff",
   "metadata": {},
   "outputs": [],
   "source": [
    "# References\n",
    "# https://scikit-learn.org/stable/modules/naive_bayes.html\n",
    "# https://scikit-learn.org/stable/tutorial/text_analytics/working_with_text_data.html"
   ]
  },
  {
   "cell_type": "code",
   "execution_count": 1,
   "id": "791e1cb9",
   "metadata": {},
   "outputs": [],
   "source": [
    "import torch\n",
    "import sklearn"
   ]
  },
  {
   "cell_type": "code",
   "execution_count": 17,
   "id": "d7b26d87",
   "metadata": {
    "scrolled": true
   },
   "outputs": [],
   "source": [
    "from sklearn.datasets import fetch_20newsgroups\n",
    "import polars as pl\n",
    "\n",
    "# Load data\n",
    "categories = ['alt.atheism', 'soc.religion.christian','comp.graphics', 'sci.med']\n",
    "data = fetch_20newsgroups(subset='train', categories=categories, shuffle=True, random_state=42)\n",
    "\n",
    "#  Create dataframe\n",
    "df = pl.DataFrame(data.data)\n",
    "df = df.insert_column(len(df.columns),pl.Series(data.target))\n",
    "\n",
    "# Set labels\n",
    "#labels = list(data.feature_names)\n",
    "#labels.append(\"class\")\n",
    "df.columns = [\"data\",\"val\"]"
   ]
  },
  {
   "cell_type": "code",
   "execution_count": 18,
   "id": "a80f4ff1",
   "metadata": {
    "scrolled": true
   },
   "outputs": [
    {
     "data": {
      "text/html": [
       "<div><style>\n",
       ".dataframe > thead > tr,\n",
       ".dataframe > tbody > tr {\n",
       "  text-align: right;\n",
       "  white-space: pre-wrap;\n",
       "}\n",
       "</style>\n",
       "<small>shape: (5, 2)</small><table border=\"1\" class=\"dataframe\"><thead><tr><th>data</th><th>val</th></tr><tr><td>str</td><td>i64</td></tr></thead><tbody><tr><td>&quot;From: sd345@ci…</td><td>1</td></tr><tr><td>&quot;From: ani@ms.u…</td><td>1</td></tr><tr><td>&quot;From: djohnson…</td><td>3</td></tr><tr><td>&quot;From: s0612596…</td><td>3</td></tr><tr><td>&quot;From: stanly@g…</td><td>3</td></tr></tbody></table></div>"
      ],
      "text/plain": [
       "shape: (5, 2)\n",
       "┌───────────────────────────────────┬─────┐\n",
       "│ data                              ┆ val │\n",
       "│ ---                               ┆ --- │\n",
       "│ str                               ┆ i64 │\n",
       "╞═══════════════════════════════════╪═════╡\n",
       "│ From: sd345@city.ac.uk (Michael … ┆ 1   │\n",
       "│ From: ani@ms.uky.edu (Aniruddha … ┆ 1   │\n",
       "│ From: djohnson@cs.ucsd.edu (Dari… ┆ 3   │\n",
       "│ From: s0612596@let.rug.nl (M.M. … ┆ 3   │\n",
       "│ From: stanly@grok11.columbiasc.n… ┆ 3   │\n",
       "└───────────────────────────────────┴─────┘"
      ]
     },
     "execution_count": 18,
     "metadata": {},
     "output_type": "execute_result"
    }
   ],
   "source": [
    "df.head()"
   ]
  },
  {
   "cell_type": "code",
   "execution_count": 27,
   "id": "16225eb5",
   "metadata": {},
   "outputs": [],
   "source": [
    "# Data Split\n",
    "from sklearn.model_selection import train_test_split\n",
    "\n",
    "X = data.data\n",
    "Y = data.target\n",
    "X_train, X_test, y_train, y_test = train_test_split(X, Y, test_size=0.2, random_state=0)"
   ]
  },
  {
   "cell_type": "code",
   "execution_count": 29,
   "id": "0ed4da3e",
   "metadata": {},
   "outputs": [
    {
     "data": {
      "text/plain": [
       "(1805, 452)"
      ]
     },
     "execution_count": 29,
     "metadata": {},
     "output_type": "execute_result"
    }
   ],
   "source": [
    "trainlen, testlen = len(X_train), len(X_test)\n",
    "trainlen, testlen"
   ]
  },
  {
   "cell_type": "code",
   "execution_count": 32,
   "id": "b017655f",
   "metadata": {},
   "outputs": [
    {
     "data": {
      "text/plain": [
       "4690"
      ]
     },
     "execution_count": 32,
     "metadata": {},
     "output_type": "execute_result"
    }
   ],
   "source": [
    "# Preprocessing\n",
    "# Bag of words\n",
    "from sklearn.feature_extraction.text import CountVectorizer\n",
    "count_vect = CountVectorizer()\n",
    "X_train_counts = count_vect.fit_transform(X)\n",
    "X_train_counts.shape\n",
    "count_vect.vocabulary_.get(u'algorithm')"
   ]
  },
  {
   "cell_type": "code",
   "execution_count": 35,
   "id": "db0da5dd",
   "metadata": {},
   "outputs": [
    {
     "data": {
      "text/plain": [
       "(2257, 35788)"
      ]
     },
     "execution_count": 35,
     "metadata": {},
     "output_type": "execute_result"
    }
   ],
   "source": [
    "# TF-IDF\n",
    "\n",
    "from sklearn.feature_extraction.text import TfidfTransformer\n",
    "tfidf_transformer = TfidfTransformer()\n",
    "X_train_tfidf = tfidf_transformer.fit_transform(X_train_counts)\n",
    "X_train_tfidf.shape"
   ]
  },
  {
   "cell_type": "code",
   "execution_count": 39,
   "id": "35109cbc",
   "metadata": {},
   "outputs": [
    {
     "name": "stdout",
     "output_type": "stream",
     "text": [
      "'God is love' => soc.religion.christian\n",
      "'OpenGL on the GPU is fast' => comp.graphics\n"
     ]
    }
   ],
   "source": [
    "# Naive Bayes application\n",
    "from sklearn.naive_bayes import MultinomialNB\n",
    "clf = MultinomialNB().fit(X_train_tfidf, data.target)\n",
    "docs_new = ['God is love', 'OpenGL on the GPU is fast']\n",
    "X_new_counts = count_vect.transform(docs_new)\n",
    "X_new_tfidf = tfidf_transformer.transform(X_new_counts)\n",
    "\n",
    "# Prediction with TF-IDF and Bag of Words\n",
    "prediction = clf.predict(X_new_tfidf)\n",
    "for doc, category in zip(docs_new, prediction):\n",
    "    print('%r => %s' % (doc, data.target_names[category]))\n"
   ]
  },
  {
   "cell_type": "code",
   "execution_count": null,
   "id": "b426fc2d",
   "metadata": {},
   "outputs": [],
   "source": []
  }
 ],
 "metadata": {
  "kernelspec": {
   "display_name": "Python 3 (ipykernel)",
   "language": "python",
   "name": "python3"
  },
  "language_info": {
   "codemirror_mode": {
    "name": "ipython",
    "version": 3
   },
   "file_extension": ".py",
   "mimetype": "text/x-python",
   "name": "python",
   "nbconvert_exporter": "python",
   "pygments_lexer": "ipython3",
   "version": "3.9.13"
  }
 },
 "nbformat": 4,
 "nbformat_minor": 5
}
